{
 "cells": [
  {
   "cell_type": "markdown",
   "metadata": {},
   "source": [
    "### Note\n",
    "* Instructions have been included for each segment. You do not have to follow them exactly, but they are included to help you think through the steps."
   ]
  },
  {
   "cell_type": "code",
   "execution_count": 1,
   "metadata": {},
   "outputs": [
    {
     "output_type": "execute_result",
     "data": {
      "text/plain": [
       "0         Gender\n",
       "1    Purchase ID\n",
       "dtype: object"
      ]
     },
     "metadata": {},
     "execution_count": 1
    }
   ],
   "source": [
    "# Dependencies and Setup\n",
    "import pandas as pd\n",
    "\n",
    "# File to Load (Remember to Change These)\n",
    "file_to_load = \"Resources/purchase_data.csv\"\n",
    "\n",
    "# Read Purchasing File and store into Pandas data frame\n",
    "purchase_data = pd.read_csv(file_to_load)\n",
    "\n",
    "series = pd.Series(['Gender','Purchase ID'])\n",
    "\n",
    "series"
   ]
  },
  {
   "cell_type": "markdown",
   "metadata": {},
   "source": [
    "## Player Count"
   ]
  },
  {
   "cell_type": "markdown",
   "metadata": {},
   "source": [
    "* Display the total number of players\n"
   ]
  },
  {
   "cell_type": "code",
   "execution_count": 2,
   "metadata": {},
   "outputs": [
    {
     "output_type": "execute_result",
     "data": {
      "text/plain": [
       "Male                     652\n",
       "Female                   113\n",
       "Other / Non-Disclosed     15\n",
       "Name: Gender, dtype: int64"
      ]
     },
     "metadata": {},
     "execution_count": 2
    }
   ],
   "source": [
    "total_players = purchase_data[('Gender')].value_counts()\n",
    "total_players"
   ]
  },
  {
   "cell_type": "markdown",
   "metadata": {},
   "source": [
    "## Purchasing Analysis (Total)"
   ]
  },
  {
   "cell_type": "markdown",
   "metadata": {},
   "source": [
    "* Run basic calculations to obtain number of unique items, average price, etc.\n",
    "\n",
    "\n",
    "* Create a summary data frame to hold the results\n",
    "\n",
    "\n",
    "* Optional: give the displayed data cleaner formatting\n",
    "\n",
    "\n",
    "* Display the summary data frame\n"
   ]
  },
  {
   "cell_type": "code",
   "execution_count": 7,
   "metadata": {
    "scrolled": true
   },
   "outputs": [
    {
     "output_type": "execute_result",
     "data": {
      "text/plain": [
       "   Total Unique Items  Total Average Price  Total Purchases  Minimum Price  \\\n",
       "0                 179             3.050987              780            1.0   \n",
       "\n",
       "   Maximum Price  Total Variance  Total Revenue  \n",
       "0           4.99        1.367844        2379.77  "
      ],
      "text/html": "<div>\n<style scoped>\n    .dataframe tbody tr th:only-of-type {\n        vertical-align: middle;\n    }\n\n    .dataframe tbody tr th {\n        vertical-align: top;\n    }\n\n    .dataframe thead th {\n        text-align: right;\n    }\n</style>\n<table border=\"1\" class=\"dataframe\">\n  <thead>\n    <tr style=\"text-align: right;\">\n      <th></th>\n      <th>Total Unique Items</th>\n      <th>Total Average Price</th>\n      <th>Total Purchases</th>\n      <th>Minimum Price</th>\n      <th>Maximum Price</th>\n      <th>Total Variance</th>\n      <th>Total Revenue</th>\n    </tr>\n  </thead>\n  <tbody>\n    <tr>\n      <th>0</th>\n      <td>179</td>\n      <td>3.050987</td>\n      <td>780</td>\n      <td>1.0</td>\n      <td>4.99</td>\n      <td>1.367844</td>\n      <td>2379.77</td>\n    </tr>\n  </tbody>\n</table>\n</div>"
     },
     "metadata": {},
     "execution_count": 7
    }
   ],
   "source": [
    "uniqueitems = purchase_data['Item ID'].nunique()\n",
    "averageprice = purchase_data['Price'].mean()\n",
    "totalpurchases = purchase_data['Purchase ID'].count()\n",
    "minprice = purchase_data['Price'].min()\n",
    "maxprice = purchase_data['Price'].max()\n",
    "variance = purchase_data['Price'].var()\n",
    "totalrevenue = purchase_data['Price'].sum()\n",
    "\n",
    "#summary dataframe to hold results\n",
    "summary_df = pd.DataFrame ({\n",
    "    \"Total Unique Items\": [uniqueitems],\n",
    "    \"Total Average Price\": [averageprice],\n",
    "    \"Total Purchases\": [totalpurchases],\n",
    "    \"Minimum Price\": [minprice],\n",
    "    \"Maximum Price\": [maxprice],\n",
    "    \"Total Variance\": [variance],\n",
    "    \"Total Revenue\": [totalrevenue]\n",
    "})\n",
    "# display summary data frame\n",
    "summary_df[[\"Total Unique Items\", \"Total Average Price\", \"Total Purchases\", \"Minimum Price\", \"Maximum Price\", \"Total Variance\", \"Total Revenue\"]]"
   ]
  },
  {
   "cell_type": "markdown",
   "metadata": {},
   "source": [
    "## Gender Demographics"
   ]
  },
  {
   "cell_type": "markdown",
   "metadata": {},
   "source": [
    "* Percentage and Count of Male Players\n",
    "\n",
    "\n",
    "* Percentage and Count of Female Players\n",
    "\n",
    "\n",
    "* Percentage and Count of Other / Non-Disclosed\n",
    "\n",
    "\n"
   ]
  },
  {
   "cell_type": "code",
   "execution_count": 14,
   "metadata": {},
   "outputs": [
    {
     "output_type": "execute_result",
     "data": {
      "text/plain": [
       "                       Total Gender Count  Percentage of Players\n",
       "Gender                                                          \n",
       "Female                                 81              71.681416\n",
       "Male                                  484              74.233129\n",
       "Other / Non-Disclosed                  11              73.333333"
      ],
      "text/html": "<div>\n<style scoped>\n    .dataframe tbody tr th:only-of-type {\n        vertical-align: middle;\n    }\n\n    .dataframe tbody tr th {\n        vertical-align: top;\n    }\n\n    .dataframe thead th {\n        text-align: right;\n    }\n</style>\n<table border=\"1\" class=\"dataframe\">\n  <thead>\n    <tr style=\"text-align: right;\">\n      <th></th>\n      <th>Total Gender Count</th>\n      <th>Percentage of Players</th>\n    </tr>\n    <tr>\n      <th>Gender</th>\n      <th></th>\n      <th></th>\n    </tr>\n  </thead>\n  <tbody>\n    <tr>\n      <th>Female</th>\n      <td>81</td>\n      <td>71.681416</td>\n    </tr>\n    <tr>\n      <th>Male</th>\n      <td>484</td>\n      <td>74.233129</td>\n    </tr>\n    <tr>\n      <th>Other / Non-Disclosed</th>\n      <td>11</td>\n      <td>73.333333</td>\n    </tr>\n  </tbody>\n</table>\n</div>"
     },
     "metadata": {},
     "execution_count": 14
    }
   ],
   "source": [
    "gender_df = purchase_data.groupby([\"Gender\"])\n",
    "genderCounts = gender_df[\"SN\"].nunique()\n",
    "genderPercentages = genderCounts / total_players * 100\n",
    "\n",
    "\n",
    "gender_summary = pd.DataFrame({\n",
    "    \"Total Gender Count\": genderCounts,\n",
    "    \"Percentage of Players\": genderPercentages})\n",
    "gender_summary"
   ]
  },
  {
   "cell_type": "markdown",
   "metadata": {},
   "source": [
    "\n",
    "## Purchasing Analysis (Gender)"
   ]
  },
  {
   "cell_type": "markdown",
   "metadata": {},
   "source": [
    "* Run basic calculations to obtain purchase count, avg. purchase price, avg. purchase total per person etc. by gender\n",
    "\n",
    "\n",
    "\n",
    "\n",
    "* Create a summary data frame to hold the results\n",
    "\n",
    "\n",
    "* Optional: give the displayed data cleaner formatting\n",
    "\n",
    "\n",
    "* Display the summary data frame"
   ]
  },
  {
   "cell_type": "code",
   "execution_count": 17,
   "metadata": {},
   "outputs": [
    {
     "output_type": "execute_result",
     "data": {
      "text/plain": [
       "                                      Purchase Count  \\\n",
       "0  Gender\n",
       "Female                   113\n",
       "Male      ...   \n",
       "\n",
       "                              Average Purchase Price  \\\n",
       "0  Gender\n",
       "Female                   3.203009\n",
       "Male ...   \n",
       "\n",
       "                                Total Purchase Value  \\\n",
       "0  Gender\n",
       "Female                    361.94\n",
       "Male  ...   \n",
       "\n",
       "                         Average Purchase Per Person  \n",
       "0  Gender\n",
       "Female                   446.839506\n",
       "Mal...  "
      ],
      "text/html": "<div>\n<style scoped>\n    .dataframe tbody tr th:only-of-type {\n        vertical-align: middle;\n    }\n\n    .dataframe tbody tr th {\n        vertical-align: top;\n    }\n\n    .dataframe thead th {\n        text-align: right;\n    }\n</style>\n<table border=\"1\" class=\"dataframe\">\n  <thead>\n    <tr style=\"text-align: right;\">\n      <th></th>\n      <th>Purchase Count</th>\n      <th>Average Purchase Price</th>\n      <th>Total Purchase Value</th>\n      <th>Average Purchase Per Person</th>\n    </tr>\n  </thead>\n  <tbody>\n    <tr>\n      <th>0</th>\n      <td>Gender\nFemale                   113\nMale      ...</td>\n      <td>Gender\nFemale                   3.203009\nMale ...</td>\n      <td>Gender\nFemale                    361.94\nMale  ...</td>\n      <td>Gender\nFemale                   446.839506\nMal...</td>\n    </tr>\n  </tbody>\n</table>\n</div>"
     },
     "metadata": {},
     "execution_count": 17
    }
   ],
   "source": [
    "purchase_Counts = gender_df[\"Purchase ID\"].count()\n",
    "avgpurchasePrice = gender_df[\"Price\"].mean()\n",
    "totalpurchaseValue = gender_df[\"Price\"].sum()\n",
    "avgpurchasePerson = totalpurchaseValue / genderCounts * 100\n",
    "\n",
    "gender_Purchases = pd.DataFrame ({\"Purchase Count\": [purchase_Counts],\n",
    "                                    \"Average Purchase Price\": [avgpurchasePrice],\n",
    "                                    \"Total Purchase Value\": [totalpurchaseValue],\n",
    "                                    \"Average Purchase Per Person\": [avgpurchasePerson]})\n",
    "gender_Purchases"
   ]
  },
  {
   "cell_type": "markdown",
   "metadata": {},
   "source": [
    "## Age Demographics"
   ]
  },
  {
   "cell_type": "markdown",
   "metadata": {},
   "source": [
    "* Establish bins for ages\n",
    "\n",
    "\n",
    "* Categorize the existing players using the age bins. Hint: use pd.cut()\n",
    "\n",
    "\n",
    "* Calculate the numbers and percentages by age group\n",
    "\n",
    "\n",
    "* Create a summary data frame to hold the results\n",
    "\n",
    "\n",
    "* Optional: round the percentage column to two decimal points\n",
    "\n",
    "\n",
    "* Display Age Demographics Table\n"
   ]
  },
  {
   "cell_type": "code",
   "execution_count": 25,
   "metadata": {},
   "outputs": [
    {
     "output_type": "execute_result",
     "data": {
      "text/plain": [
       "                                    Total Age Counts  \\\n",
       "0  Age Groups\n",
       "<=9       17\n",
       "10-14     22\n",
       "15-19    ...   \n",
       "\n",
       "                               Percentage of Players  \n",
       "0  10-14                   NaN\n",
       "15-19             ...  "
      ],
      "text/html": "<div>\n<style scoped>\n    .dataframe tbody tr th:only-of-type {\n        vertical-align: middle;\n    }\n\n    .dataframe tbody tr th {\n        vertical-align: top;\n    }\n\n    .dataframe thead th {\n        text-align: right;\n    }\n</style>\n<table border=\"1\" class=\"dataframe\">\n  <thead>\n    <tr style=\"text-align: right;\">\n      <th></th>\n      <th>Total Age Counts</th>\n      <th>Percentage of Players</th>\n    </tr>\n  </thead>\n  <tbody>\n    <tr>\n      <th>0</th>\n      <td>Age Groups\n&lt;=9       17\n10-14     22\n15-19    ...</td>\n      <td>10-14                   NaN\n15-19             ...</td>\n    </tr>\n  </tbody>\n</table>\n</div>"
     },
     "metadata": {},
     "execution_count": 25
    }
   ],
   "source": [
    "age_bins = [0, 9, 14, 19, 24, 29, 34, 39, 150]\n",
    "age_groups = [\"<=9\", \"10-14\", \"15-19\", \"20-24\", \"25-29\", \"30-34\",\"35-39\", \"40+\"]\n",
    "\n",
    "purchase_data[\"Age Groups\"] = pd.cut(purchase_data[\"Age\"],age_bins,labels=age_groups)\n",
    "group_age = purchase_data.groupby([\"Age Groups\"])\n",
    "\n",
    "age_Counts = group_age[\"SN\"].nunique()\n",
    "age_Percentages = age_Counts / total_players * 100\n",
    "\n",
    "age_summary = pd.DataFrame({\"Total Age Counts\": [age_Counts],\n",
    "                            \"Percentage of Players\": [age_Percentages]})\n",
    "age_summary\n",
    "\n"
   ]
  },
  {
   "cell_type": "markdown",
   "metadata": {},
   "source": [
    "## Purchasing Analysis (Age)"
   ]
  },
  {
   "cell_type": "markdown",
   "metadata": {},
   "source": [
    "* Bin the purchase_data data frame by age\n",
    "\n",
    "\n",
    "* Run basic calculations to obtain purchase count, avg. purchase price, avg. purchase total per person etc. in the table below\n",
    "\n",
    "\n",
    "* Create a summary data frame to hold the results\n",
    "\n",
    "\n",
    "* Optional: give the displayed data cleaner formatting\n",
    "\n",
    "\n",
    "* Display the summary data frame"
   ]
  },
  {
   "cell_type": "code",
   "execution_count": 26,
   "metadata": {},
   "outputs": [
    {
     "output_type": "execute_result",
     "data": {
      "text/plain": [
       "                                      Purchase Count  \\\n",
       "0  Age Groups\n",
       "<=9       23\n",
       "10-14     28\n",
       "15-19    ...   \n",
       "\n",
       "                              Average Purchase Price  \\\n",
       "0  Age Groups\n",
       "<=9      3.353478\n",
       "10-14    2.956429...   \n",
       "\n",
       "                                Total Purchase Value  \\\n",
       "0  Age Groups\n",
       "<=9        77.13\n",
       "10-14      82.78\n",
       "1...   \n",
       "\n",
       "                       Avg Total Purchase Per Person  \n",
       "0  Age Groups\n",
       "<=9      453.705882\n",
       "10-14    376.27...  "
      ],
      "text/html": "<div>\n<style scoped>\n    .dataframe tbody tr th:only-of-type {\n        vertical-align: middle;\n    }\n\n    .dataframe tbody tr th {\n        vertical-align: top;\n    }\n\n    .dataframe thead th {\n        text-align: right;\n    }\n</style>\n<table border=\"1\" class=\"dataframe\">\n  <thead>\n    <tr style=\"text-align: right;\">\n      <th></th>\n      <th>Purchase Count</th>\n      <th>Average Purchase Price</th>\n      <th>Total Purchase Value</th>\n      <th>Avg Total Purchase Per Person</th>\n    </tr>\n  </thead>\n  <tbody>\n    <tr>\n      <th>0</th>\n      <td>Age Groups\n&lt;=9       23\n10-14     28\n15-19    ...</td>\n      <td>Age Groups\n&lt;=9      3.353478\n10-14    2.956429...</td>\n      <td>Age Groups\n&lt;=9        77.13\n10-14      82.78\n1...</td>\n      <td>Age Groups\n&lt;=9      453.705882\n10-14    376.27...</td>\n    </tr>\n  </tbody>\n</table>\n</div>"
     },
     "metadata": {},
     "execution_count": 26
    }
   ],
   "source": [
    "age_Purchases = group_age[\"Purchase ID\"].count()\n",
    "avg_Purchase_Price = group_age[\"Price\"].mean()\n",
    "total_Purchase_Price = group_age[\"Price\"].sum()\n",
    "avg_Total_Purchase_Price_Person = total_Purchase_Price / age_Counts * 100\n",
    "\n",
    "age_Purchases_df = pd.DataFrame({\"Purchase Count\": [age_Purchases],\n",
    "                                \"Average Purchase Price\": [avg_Purchase_Price],\n",
    "                                \"Total Purchase Value\": [total_Purchase_Price],\n",
    "                                \"Avg Total Purchase Per Person\": [avg_Total_Purchase_Price_Person]})\n",
    "\n",
    "age_Purchases_df"
   ]
  },
  {
   "cell_type": "markdown",
   "metadata": {},
   "source": [
    "## Top Spenders"
   ]
  },
  {
   "cell_type": "markdown",
   "metadata": {},
   "source": [
    "* Run basic calculations to obtain the results in the table below\n",
    "\n",
    "\n",
    "* Create a summary data frame to hold the results\n",
    "\n",
    "\n",
    "* Sort the total purchase value column in descending order\n",
    "\n",
    "\n",
    "* Optional: give the displayed data cleaner formatting\n",
    "\n",
    "\n",
    "* Display a preview of the summary data frame\n",
    "\n"
   ]
  },
  {
   "cell_type": "code",
   "execution_count": null,
   "metadata": {},
   "outputs": [],
   "source": []
  },
  {
   "cell_type": "markdown",
   "metadata": {},
   "source": [
    "## Most Popular Items"
   ]
  },
  {
   "cell_type": "markdown",
   "metadata": {},
   "source": [
    "* Retrieve the Item ID, Item Name, and Item Price columns\n",
    "\n",
    "\n",
    "* Group by Item ID and Item Name. Perform calculations to obtain purchase count, average item price, and total purchase value\n",
    "\n",
    "\n",
    "* Create a summary data frame to hold the results\n",
    "\n",
    "\n",
    "* Sort the purchase count column in descending order\n",
    "\n",
    "\n",
    "* Optional: give the displayed data cleaner formatting\n",
    "\n",
    "\n",
    "* Display a preview of the summary data frame\n",
    "\n"
   ]
  },
  {
   "cell_type": "code",
   "execution_count": null,
   "metadata": {},
   "outputs": [],
   "source": []
  },
  {
   "cell_type": "markdown",
   "metadata": {},
   "source": [
    "## Most Profitable Items"
   ]
  },
  {
   "cell_type": "markdown",
   "metadata": {},
   "source": [
    "* Sort the above table by total purchase value in descending order\n",
    "\n",
    "\n",
    "* Optional: give the displayed data cleaner formatting\n",
    "\n",
    "\n",
    "* Display a preview of the data frame\n",
    "\n"
   ]
  },
  {
   "cell_type": "code",
   "execution_count": null,
   "metadata": {
    "scrolled": true
   },
   "outputs": [],
   "source": []
  }
 ],
 "metadata": {
  "anaconda-cloud": {},
  "kernel_info": {
   "name": "python3"
  },
  "kernelspec": {
   "name": "python385jvsc74a57bd07514b17981d25e8b0fd5af6c271cd77efb8109f2c548140e5cb15a159b79c2a1",
   "display_name": "Python 3.8.5 64-bit ('base': conda)"
  },
  "language_info": {
   "codemirror_mode": {
    "name": "ipython",
    "version": 3
   },
   "file_extension": ".py",
   "mimetype": "text/x-python",
   "name": "python",
   "nbconvert_exporter": "python",
   "pygments_lexer": "ipython3",
   "version": "3.8.5"
  },
  "latex_envs": {
   "LaTeX_envs_menu_present": true,
   "autoclose": false,
   "autocomplete": true,
   "bibliofile": "biblio.bib",
   "cite_by": "apalike",
   "current_citInitial": 1,
   "eqLabelWithNumbers": true,
   "eqNumInitial": 1,
   "hotkeys": {
    "equation": "Ctrl-E",
    "itemize": "Ctrl-I"
   },
   "labels_anchors": false,
   "latex_user_defs": false,
   "report_style_numbering": false,
   "user_envs_cfg": false
  },
  "nteract": {
   "version": "0.2.0"
  }
 },
 "nbformat": 4,
 "nbformat_minor": 4
}